{
 "cells": [
  {
   "cell_type": "code",
   "execution_count": 6,
   "metadata": {},
   "outputs": [
    {
     "name": "stdout",
     "output_type": "stream",
     "text": [
      "The autoreload extension is already loaded. To reload it, use:\n",
      "  %reload_ext autoreload\n"
     ]
    }
   ],
   "source": [
    "import numpy as np\n",
    "import pandas as pd\n",
    "import json\n",
    "import os\n",
    "import math\n",
    "import datetime as dt\n",
    "from numpy import newaxis\n",
    "from keras.optimizers import Adam\n",
    "from keras.layers import Dense, Activation, Dropout, LSTM, CuDNNLSTM, BatchNormalization\n",
    "from keras.models import Sequential, load_model\n",
    "# from keras.utils import plot_model\n",
    "# from IPython.display import SVG\n",
    "# from keras.utils import model_to_dot\n",
    "\n",
    "import utils\n",
    "import model_funcs\n",
    "\n",
    "%load_ext autoreload\n",
    "# %aimport -utils -model_funcs\n",
    "%autoreload 2"
   ]
  },
  {
   "cell_type": "code",
   "execution_count": 7,
   "metadata": {},
   "outputs": [],
   "source": [
    "save_dir = 'models/lstm1'\n",
    "df = pd.read_csv('data_25.csv', index_col=\"Date\")\n",
    "data = df.values"
   ]
  },
  {
   "cell_type": "code",
   "execution_count": 8,
   "metadata": {},
   "outputs": [
    {
     "name": "stdout",
     "output_type": "stream",
     "text": [
      "train shape (638, 30, 25)\n",
      "predict shape (638, 7)\n"
     ]
    }
   ],
   "source": [
    "num_input = 30\n",
    "num_out = 7\n",
    "train_X, train_y, dev_X, dev_y, test_X, test_y, y = utils.prepare_data(data, num_input, num_preds=num_out)\n",
    "\n",
    "print(\"train shape\", train_X.shape)\n",
    "print(\"predict shape\", train_y.shape)"
   ]
  },
  {
   "cell_type": "code",
   "execution_count": 14,
   "metadata": {},
   "outputs": [
    {
     "name": "stdout",
     "output_type": "stream",
     "text": [
      "_________________________________________________________________\n",
      "Layer (type)                 Output Shape              Param #   \n",
      "=================================================================\n",
      "lstm_22 (LSTM)               (None, 30, 128)           78848     \n",
      "_________________________________________________________________\n",
      "dropout_29 (Dropout)         (None, 30, 128)           0         \n",
      "_________________________________________________________________\n",
      "batch_normalization_22 (Batc (None, 30, 128)           512       \n",
      "_________________________________________________________________\n",
      "lstm_23 (LSTM)               (None, 30, 128)           131584    \n",
      "_________________________________________________________________\n",
      "dropout_30 (Dropout)         (None, 30, 128)           0         \n",
      "_________________________________________________________________\n",
      "batch_normalization_23 (Batc (None, 30, 128)           512       \n",
      "_________________________________________________________________\n",
      "lstm_24 (LSTM)               (None, 128)               131584    \n",
      "_________________________________________________________________\n",
      "dropout_31 (Dropout)         (None, 128)               0         \n",
      "_________________________________________________________________\n",
      "batch_normalization_24 (Batc (None, 128)               512       \n",
      "_________________________________________________________________\n",
      "dense_15 (Dense)             (None, 32)                4128      \n",
      "_________________________________________________________________\n",
      "dropout_32 (Dropout)         (None, 32)                0         \n",
      "_________________________________________________________________\n",
      "dense_16 (Dense)             (None, 7)                 231       \n",
      "=================================================================\n",
      "Total params: 347,911\n",
      "Trainable params: 347,143\n",
      "Non-trainable params: 768\n",
      "_________________________________________________________________\n"
     ]
    }
   ],
   "source": [
    "if not os.path.exists(save_dir): os.makedirs(save_dir)\n",
    "\n",
    "input_shape = train_X.shape[1:]\n",
    "lr = 0.001\n",
    "decay = 1e-6\n",
    "dropout_rate = 0.2\n",
    "epochs = 25\n",
    "batch_size = 32\n",
    "\n",
    "model = Sequential()\n",
    "model.add(\n",
    "    LSTM(\n",
    "        128,\n",
    "        input_shape=input_shape,\n",
    "        return_sequences=True,\n",
    "    )\n",
    ")\n",
    "model.add(Dropout(dropout_rate))\n",
    "model.add(BatchNormalization())\n",
    "\n",
    "model.add(LSTM(128, return_sequences=True))\n",
    "model.add(Dropout(dropout_rate))\n",
    "model.add(BatchNormalization())\n",
    "\n",
    "model.add(LSTM(128))\n",
    "model.add(Dropout(dropout_rate))\n",
    "model.add(BatchNormalization())\n",
    "\n",
    "model.add(Dense(32, activation=\"relu\"))\n",
    "model.add(Dropout(dropout_rate))\n",
    "\n",
    "model.add(Dense(num_out, activation=\"softmax\"))\n",
    "\n",
    "\n",
    "opt = Adam(lr=lr, decay=decay)\n",
    "model.compile(loss=\"mse\", optimizer=opt)\n",
    "model.summary()"
   ]
  },
  {
   "cell_type": "code",
   "execution_count": 15,
   "metadata": {},
   "outputs": [
    {
     "name": "stdout",
     "output_type": "stream",
     "text": [
      "[Model] Training Started\n",
      "[Model] 25 epochs, 32 batch size\n",
      "WARNING:tensorflow:From /anaconda3/envs/cs230/lib/python3.7/site-packages/tensorflow/python/ops/math_ops.py:3066: to_int32 (from tensorflow.python.ops.math_ops) is deprecated and will be removed in a future version.\n",
      "Instructions for updating:\n",
      "Use tf.cast instead.\n",
      "Train on 638 samples, validate on 80 samples\n",
      "Epoch 1/25\n",
      "638/638 [==============================] - 5s 9ms/step - loss: 0.1048 - val_loss: 0.0079\n",
      "Epoch 2/25\n",
      "638/638 [==============================] - 2s 3ms/step - loss: 0.1009 - val_loss: 0.0079\n",
      "Epoch 3/25\n",
      "638/638 [==============================] - 2s 3ms/step - loss: 0.0986 - val_loss: 0.0069\n",
      "Epoch 4/25\n",
      "638/638 [==============================] - 2s 3ms/step - loss: 0.0935 - val_loss: 0.0075\n",
      "Epoch 5/25\n",
      "638/638 [==============================] - 2s 3ms/step - loss: 0.0906 - val_loss: 0.0059\n",
      "Epoch 6/25\n",
      "638/638 [==============================] - 2s 3ms/step - loss: 0.0855 - val_loss: 0.0057\n",
      "Epoch 7/25\n",
      "638/638 [==============================] - 2s 3ms/step - loss: 0.0837 - val_loss: 0.0056\n",
      "Epoch 8/25\n",
      "638/638 [==============================] - 2s 3ms/step - loss: 0.0815 - val_loss: 0.0059\n",
      "Epoch 9/25\n",
      "638/638 [==============================] - 2s 3ms/step - loss: 0.0780 - val_loss: 0.0055\n",
      "Epoch 10/25\n",
      "638/638 [==============================] - 2s 3ms/step - loss: 0.0771 - val_loss: 0.0054\n",
      "Epoch 11/25\n",
      "638/638 [==============================] - 2s 3ms/step - loss: 0.0748 - val_loss: 0.0052\n",
      "Epoch 12/25\n",
      "638/638 [==============================] - 2s 3ms/step - loss: 0.0728 - val_loss: 0.0052\n",
      "Epoch 13/25\n",
      "638/638 [==============================] - 2s 3ms/step - loss: 0.0720 - val_loss: 0.0052\n",
      "Epoch 14/25\n",
      "638/638 [==============================] - 2s 3ms/step - loss: 0.0693 - val_loss: 0.0052\n",
      "Epoch 15/25\n",
      "638/638 [==============================] - 2s 3ms/step - loss: 0.0691 - val_loss: 0.0051\n",
      "Epoch 16/25\n",
      "638/638 [==============================] - 2s 3ms/step - loss: 0.0678 - val_loss: 0.0052\n",
      "Epoch 17/25\n",
      "638/638 [==============================] - 2s 3ms/step - loss: 0.0680 - val_loss: 0.0052\n",
      "Epoch 18/25\n",
      "638/638 [==============================] - 2s 3ms/step - loss: 0.0674 - val_loss: 0.0051\n",
      "Epoch 19/25\n",
      "638/638 [==============================] - 2s 3ms/step - loss: 0.0667 - val_loss: 0.0051\n",
      "Epoch 20/25\n",
      "638/638 [==============================] - 2s 3ms/step - loss: 0.0661 - val_loss: 0.0052\n",
      "Epoch 21/25\n",
      "638/638 [==============================] - 2s 3ms/step - loss: 0.0655 - val_loss: 0.0052\n",
      "Epoch 22/25\n",
      "638/638 [==============================] - 2s 3ms/step - loss: 0.0652 - val_loss: 0.0052\n",
      "Epoch 23/25\n",
      "638/638 [==============================] - 2s 3ms/step - loss: 0.0648 - val_loss: 0.0052\n",
      "Epoch 24/25\n",
      "638/638 [==============================] - 2s 3ms/step - loss: 0.0646 - val_loss: 0.0052\n",
      "Epoch 25/25\n",
      "638/638 [==============================] - 2s 3ms/step - loss: 0.0645 - val_loss: 0.0052\n",
      "[Model] Training Completed. Model saved as models/lstm1/29052019-105744-e25.h5\n"
     ]
    }
   ],
   "source": [
    "history = model_funcs.train(\n",
    "    model,\n",
    "    train_X,\n",
    "    train_y,\n",
    "    (dev_X, dev_y),\n",
    "    epochs = epochs,\n",
    "    batch_size = batch_size,\n",
    "    save_dir = save_dir\n",
    ")"
   ]
  },
  {
   "cell_type": "code",
   "execution_count": null,
   "metadata": {},
   "outputs": [],
   "source": []
  }
 ],
 "metadata": {
  "kernelspec": {
   "display_name": "Python 3",
   "language": "python",
   "name": "python3"
  },
  "language_info": {
   "codemirror_mode": {
    "name": "ipython",
    "version": 3
   },
   "file_extension": ".py",
   "mimetype": "text/x-python",
   "name": "python",
   "nbconvert_exporter": "python",
   "pygments_lexer": "ipython3",
   "version": "3.7.3"
  }
 },
 "nbformat": 4,
 "nbformat_minor": 2
}
